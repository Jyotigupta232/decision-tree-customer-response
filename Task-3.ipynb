{
 "cells": [
  {
   "cell_type": "code",
   "execution_count": null,
   "id": "469e7f8b-f49b-4c73-a603-fa448a930d89",
   "metadata": {},
   "outputs": [],
   "source": [
    "# Task 3: Decision Tree Classifier on Bank Marketing Dataset\n",
    "\n",
    "import pandas as pd\n",
    "import numpy as np\n",
    "import matplotlib.pyplot as plt\n",
    "import seaborn as sns\n",
    "\n",
    "from sklearn.model_selection import train_test_split\n",
    "from sklearn.tree import DecisionTreeClassifier, plot_tree\n",
    "from sklearn.preprocessing import LabelEncoder\n",
    "from sklearn.metrics import classification_report, confusion_matrix, accuracy_score"
   ]
  },
  {
   "cell_type": "code",
   "execution_count": null,
   "id": "2cae7567-09a6-4357-9ce1-35c47bbc5754",
   "metadata": {},
   "outputs": [],
   "source": [
    "df = pd.read_csv(r\"C:\\Users\\jg275\\Downloads\\bank+marketing\\bank-additional\\bank-additional\\bank-additional-full.csv\", encoding='latin1',sep=\";\")\n",
    "print(df.head())\n",
    "print(df.info())\n",
    "print(df['y'].value_counts())"
   ]
  },
  {
   "cell_type": "code",
   "execution_count": null,
   "id": "372d1f86-2324-4edb-b512-fcd12464015f",
   "metadata": {},
   "outputs": [],
   "source": [
    "print(\"Missing values per column:\")\n",
    "print(df.isnull().sum())"
   ]
  },
  {
   "cell_type": "code",
   "execution_count": null,
   "id": "d0d831d5-c8ca-43c4-9578-28ecbbb6289f",
   "metadata": {},
   "outputs": [],
   "source": [
    "# Data Preprocessing\n",
    "# Encode all categorical columns\n",
    "le = LabelEncoder()\n",
    "for col in df.select_dtypes(include='object').columns:\n",
    "    df[col] = le.fit_transform(df[col])"
   ]
  },
  {
   "cell_type": "code",
   "execution_count": null,
   "id": "ed5b192c-e899-4640-a018-a1921151d6b7",
   "metadata": {},
   "outputs": [],
   "source": [
    "# Define Features and Target\n",
    "X = df.drop('y', axis=1)\n",
    "y = df['y']  # 0 = no, 1 = yes\n",
    "#Train-Test Split\n",
    "X_train, X_test, y_train, y_test = train_test_split(X, y, test_size=0.2, random_state=42)\n",
    "\n",
    "# Build Decision Tree Classifier\n",
    "dt_model = DecisionTreeClassifier(criterion='gini', max_depth=5, random_state=42)\n",
    "dt_model.fit(X_train, y_train)\n",
    "\n",
    "# Evaluate the Model\n",
    "\n",
    "y_pred = dt_model.predict(X_test)\n",
    "\n",
    "print(\"Accuracy:\", accuracy_score(y_test, y_pred))\n",
    "print(\"\\nConfusion Matrix:\\n\", confusion_matrix(y_test, y_pred))\n",
    "print(\"\\nClassification Report:\\n\", classification_report(y_test, y_pred))"
   ]
  },
  {
   "cell_type": "code",
   "execution_count": null,
   "id": "87481f74-84d6-44a0-a7f9-1e895fe1ee7f",
   "metadata": {},
   "outputs": [],
   "source": [
    "# Visualize the Tree\n",
    "plt.figure(figsize=(20,10))\n",
    "plot_tree(dt_model, feature_names=X.columns, class_names=['No', 'Yes'], filled=True)\n",
    "plt.title(\"Decision Tree for Bank Marketing\")\n",
    "plt.show()"
   ]
  },
  {
   "cell_type": "code",
   "execution_count": null,
   "id": "2f96b0c2-74d1-4ca4-a03d-55e0713b77a1",
   "metadata": {},
   "outputs": [],
   "source": [
    "# Feature Importance\n",
    "feat_imp = pd.Series(dt_model.feature_importances_, index=X.columns)\n",
    "feat_imp.sort_values(ascending=False).plot(kind='bar', title='Feature Importances', color='teal')\n",
    "plt.ylabel('Importance Score')\n",
    "plt.show()"
   ]
  }
 ],
 "metadata": {
  "kernelspec": {
   "display_name": "Python 3 (ipykernel)",
   "language": "python",
   "name": "python3"
  },
  "language_info": {
   "codemirror_mode": {
    "name": "ipython",
    "version": 3
   },
   "file_extension": ".py",
   "mimetype": "text/x-python",
   "name": "python",
   "nbconvert_exporter": "python",
   "pygments_lexer": "ipython3",
   "version": "3.13.3"
  }
 },
 "nbformat": 4,
 "nbformat_minor": 5
}
